{
 "cells": [
  {
   "cell_type": "code",
   "execution_count": 3,
   "id": "3b7ccb8a",
   "metadata": {},
   "outputs": [],
   "source": [
    "# Convert PNG file to white color\n",
    "import numpy as np  \n",
    "from PIL import Image \n",
    "import os,sys\n",
    "\n",
    "im = Image.open('logo.png')  \n",
    "data = np.array(im)\n",
    "\n",
    "\n",
    "#Value that we want to replace it with(цвет выхода)  \n",
    "r2, g2, b2 = 255, 255, 255\n",
    "\n",
    "\n",
    "  \n",
    "data[:,:,:3] = [r2, g2, b2]\n",
    "\n",
    "im = Image.fromarray(data) \n",
    " \n",
    "im.save('logo_white.png')"
   ]
  },
  {
   "cell_type": "code",
   "execution_count": null,
   "id": "d4e74d6a",
   "metadata": {},
   "outputs": [],
   "source": []
  }
 ],
 "metadata": {
  "kernelspec": {
   "display_name": "Python 3 (ipykernel)",
   "language": "python",
   "name": "python3"
  },
  "language_info": {
   "codemirror_mode": {
    "name": "ipython",
    "version": 3
   },
   "file_extension": ".py",
   "mimetype": "text/x-python",
   "name": "python",
   "nbconvert_exporter": "python",
   "pygments_lexer": "ipython3",
   "version": "3.9.10"
  }
 },
 "nbformat": 4,
 "nbformat_minor": 5
}
